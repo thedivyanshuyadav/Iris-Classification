{
 "cells": [
  {
   "cell_type": "code",
   "execution_count": 1,
   "metadata": {
    "_cell_guid": "b1076dfc-b9ad-4769-8c92-a6c4dae69d19",
    "_uuid": "8f2839f25d086af736a60e9eeb907d3b93b6e0e5",
    "execution": {
     "iopub.execute_input": "2021-03-31T09:09:09.421476Z",
     "iopub.status.busy": "2021-03-31T09:09:09.420821Z",
     "iopub.status.idle": "2021-03-31T09:09:09.435287Z",
     "shell.execute_reply": "2021-03-31T09:09:09.435908Z"
    },
    "papermill": {
     "duration": 0.033361,
     "end_time": "2021-03-31T09:09:09.436294",
     "exception": false,
     "start_time": "2021-03-31T09:09:09.402933",
     "status": "completed"
    },
    "tags": []
   },
   "outputs": [
    {
     "name": "stdout",
     "output_type": "stream",
     "text": [
      "/kaggle/input/iris/Iris.csv\n",
      "/kaggle/input/iris/database.sqlite\n"
     ]
    }
   ],
   "source": [
    "import os\n",
    "for dirname, _, filenames in os.walk('/kaggle/input'):\n",
    "    for filename in filenames:\n",
    "        print(os.path.join(dirname, filename))"
   ]
  },
  {
   "cell_type": "markdown",
   "metadata": {
    "papermill": {
     "duration": 0.010841,
     "end_time": "2021-03-31T09:09:09.459137",
     "exception": false,
     "start_time": "2021-03-31T09:09:09.448296",
     "status": "completed"
    },
    "tags": []
   },
   "source": [
    "## Import Libraries"
   ]
  },
  {
   "cell_type": "code",
   "execution_count": 2,
   "metadata": {
    "execution": {
     "iopub.execute_input": "2021-03-31T09:09:09.484694Z",
     "iopub.status.busy": "2021-03-31T09:09:09.484028Z",
     "iopub.status.idle": "2021-03-31T09:09:09.490279Z",
     "shell.execute_reply": "2021-03-31T09:09:09.490807Z"
    },
    "papermill": {
     "duration": 0.02081,
     "end_time": "2021-03-31T09:09:09.490990",
     "exception": false,
     "start_time": "2021-03-31T09:09:09.470180",
     "status": "completed"
    },
    "tags": []
   },
   "outputs": [],
   "source": [
    "import numpy as np\n",
    "import pandas as pd\n",
    "from matplotlib import pyplot as plt\n",
    "%matplotlib inline"
   ]
  },
  {
   "cell_type": "markdown",
   "metadata": {
    "papermill": {
     "duration": 0.011674,
     "end_time": "2021-03-31T09:09:09.516428",
     "exception": false,
     "start_time": "2021-03-31T09:09:09.504754",
     "status": "completed"
    },
    "tags": []
   },
   "source": [
    "## Loading Dataset"
   ]
  },
  {
   "cell_type": "code",
   "execution_count": 3,
   "metadata": {
    "execution": {
     "iopub.execute_input": "2021-03-31T09:09:09.544961Z",
     "iopub.status.busy": "2021-03-31T09:09:09.544262Z",
     "iopub.status.idle": "2021-03-31T09:09:09.595085Z",
     "shell.execute_reply": "2021-03-31T09:09:09.595665Z"
    },
    "papermill": {
     "duration": 0.068207,
     "end_time": "2021-03-31T09:09:09.595846",
     "exception": false,
     "start_time": "2021-03-31T09:09:09.527639",
     "status": "completed"
    },
    "tags": []
   },
   "outputs": [
    {
     "name": "stdout",
     "output_type": "stream",
     "text": [
      "(150, 5)\n"
     ]
    },
    {
     "data": {
      "text/html": [
       "<div>\n",
       "<style scoped>\n",
       "    .dataframe tbody tr th:only-of-type {\n",
       "        vertical-align: middle;\n",
       "    }\n",
       "\n",
       "    .dataframe tbody tr th {\n",
       "        vertical-align: top;\n",
       "    }\n",
       "\n",
       "    .dataframe thead th {\n",
       "        text-align: right;\n",
       "    }\n",
       "</style>\n",
       "<table border=\"1\" class=\"dataframe\">\n",
       "  <thead>\n",
       "    <tr style=\"text-align: right;\">\n",
       "      <th></th>\n",
       "      <th>SepalLengthCm</th>\n",
       "      <th>SepalWidthCm</th>\n",
       "      <th>PetalLengthCm</th>\n",
       "      <th>PetalWidthCm</th>\n",
       "      <th>Species</th>\n",
       "    </tr>\n",
       "  </thead>\n",
       "  <tbody>\n",
       "    <tr>\n",
       "      <th>0</th>\n",
       "      <td>5.1</td>\n",
       "      <td>3.5</td>\n",
       "      <td>1.4</td>\n",
       "      <td>0.2</td>\n",
       "      <td>Iris-setosa</td>\n",
       "    </tr>\n",
       "    <tr>\n",
       "      <th>1</th>\n",
       "      <td>4.9</td>\n",
       "      <td>3.0</td>\n",
       "      <td>1.4</td>\n",
       "      <td>0.2</td>\n",
       "      <td>Iris-setosa</td>\n",
       "    </tr>\n",
       "  </tbody>\n",
       "</table>\n",
       "</div>"
      ],
      "text/plain": [
       "   SepalLengthCm  SepalWidthCm  PetalLengthCm  PetalWidthCm      Species\n",
       "0            5.1           3.5            1.4           0.2  Iris-setosa\n",
       "1            4.9           3.0            1.4           0.2  Iris-setosa"
      ]
     },
     "execution_count": 3,
     "metadata": {},
     "output_type": "execute_result"
    }
   ],
   "source": [
    "data=pd.read_csv(\"../input/iris/Iris.csv\").drop('Id',axis=1)\n",
    "\n",
    "print(data.shape)\n",
    "data.head(2)"
   ]
  },
  {
   "cell_type": "code",
   "execution_count": 4,
   "metadata": {
    "execution": {
     "iopub.execute_input": "2021-03-31T09:09:09.629577Z",
     "iopub.status.busy": "2021-03-31T09:09:09.628840Z",
     "iopub.status.idle": "2021-03-31T09:09:09.632485Z",
     "shell.execute_reply": "2021-03-31T09:09:09.631844Z"
    },
    "papermill": {
     "duration": 0.023736,
     "end_time": "2021-03-31T09:09:09.632624",
     "exception": false,
     "start_time": "2021-03-31T09:09:09.608888",
     "status": "completed"
    },
    "tags": []
   },
   "outputs": [],
   "source": [
    "label=data.Species.unique()"
   ]
  },
  {
   "cell_type": "code",
   "execution_count": 5,
   "metadata": {
    "execution": {
     "iopub.execute_input": "2021-03-31T09:09:09.669329Z",
     "iopub.status.busy": "2021-03-31T09:09:09.668018Z",
     "iopub.status.idle": "2021-03-31T09:09:10.305857Z",
     "shell.execute_reply": "2021-03-31T09:09:10.305215Z"
    },
    "papermill": {
     "duration": 0.659694,
     "end_time": "2021-03-31T09:09:10.306018",
     "exception": false,
     "start_time": "2021-03-31T09:09:09.646324",
     "status": "completed"
    },
    "tags": []
   },
   "outputs": [
    {
     "data": {
      "image/png": "[encoded data removed]",
      "text/plain": [
       "<Figure size 432x288 with 1 Axes>"
      ]
     },
     "metadata": {
      "needs_background": "light"
     },
     "output_type": "display_data"
    },
    {
     "data": {
      "image/png": "[encoded data removed]",
      "text/plain": [
       "<Figure size 432x288 with 1 Axes>"
      ]
     },
     "metadata": {
      "needs_background": "light"
     },
     "output_type": "display_data"
    }
   ],
   "source": [
    "\n",
    "color=['red','green','blue']\n",
    "\n",
    "for vs in ['Sepal','Petal']:\n",
    "    x=vs+'LengthCm'\n",
    "    y=vs+'WidthCm'\n",
    "    \n",
    "    fig=data[data.Species==label[0]].plot(kind='scatter',x=x,y=y,label=label[0],color=color[0])\n",
    "\n",
    "    data[data.Species==label[1]].plot(kind='scatter',x=x,y=y,label=label[1],color=color[1],ax=fig)\n",
    "    data[data.Species==label[2]].plot(kind='scatter',x=x,y=y,label=label[2],color=color[2],ax=fig)\n",
    "\n",
    "    plt.show()"
   ]
  },
  {
   "cell_type": "markdown",
   "metadata": {
    "papermill": {
     "duration": 0.014173,
     "end_time": "2021-03-31T09:09:10.334448",
     "exception": false,
     "start_time": "2021-03-31T09:09:10.320275",
     "status": "completed"
    },
    "tags": []
   },
   "source": [
    "## Split dataset"
   ]
  },
  {
   "cell_type": "code",
   "execution_count": 6,
   "metadata": {
    "execution": {
     "iopub.execute_input": "2021-03-31T09:09:10.368949Z",
     "iopub.status.busy": "2021-03-31T09:09:10.368136Z",
     "iopub.status.idle": "2021-03-31T09:09:11.876471Z",
     "shell.execute_reply": "2021-03-31T09:09:11.875591Z"
    },
    "papermill": {
     "duration": 1.527926,
     "end_time": "2021-03-31T09:09:11.876630",
     "exception": false,
     "start_time": "2021-03-31T09:09:10.348704",
     "status": "completed"
    },
    "tags": []
   },
   "outputs": [],
   "source": [
    "from sklearn.model_selection import train_test_split"
   ]
  },
  {
   "cell_type": "code",
   "execution_count": 7,
   "metadata": {
    "execution": {
     "iopub.execute_input": "2021-03-31T09:09:11.922956Z",
     "iopub.status.busy": "2021-03-31T09:09:11.922065Z",
     "iopub.status.idle": "2021-03-31T09:09:11.930034Z",
     "shell.execute_reply": "2021-03-31T09:09:11.928850Z"
    },
    "papermill": {
     "duration": 0.037887,
     "end_time": "2021-03-31T09:09:11.930240",
     "exception": false,
     "start_time": "2021-03-31T09:09:11.892353",
     "status": "completed"
    },
    "tags": []
   },
   "outputs": [
    {
     "name": "stdout",
     "output_type": "stream",
     "text": [
      "(112, 5) (38, 5)\n"
     ]
    },
    {
     "data": {
      "text/html": [
       "<div>\n",
       "<style scoped>\n",
       "    .dataframe tbody tr th:only-of-type {\n",
       "        vertical-align: middle;\n",
       "    }\n",
       "\n",
       "    .dataframe tbody tr th {\n",
       "        vertical-align: top;\n",
       "    }\n",
       "\n",
       "    .dataframe thead th {\n",
       "        text-align: right;\n",
       "    }\n",
       "</style>\n",
       "<table border=\"1\" class=\"dataframe\">\n",
       "  <thead>\n",
       "    <tr style=\"text-align: right;\">\n",
       "      <th></th>\n",
       "      <th>SepalLengthCm</th>\n",
       "      <th>SepalWidthCm</th>\n",
       "      <th>PetalLengthCm</th>\n",
       "      <th>PetalWidthCm</th>\n",
       "      <th>Species</th>\n",
       "    </tr>\n",
       "  </thead>\n",
       "  <tbody>\n",
       "    <tr>\n",
       "      <th>11</th>\n",
       "      <td>4.8</td>\n",
       "      <td>3.4</td>\n",
       "      <td>1.6</td>\n",
       "      <td>0.2</td>\n",
       "      <td>Iris-setosa</td>\n",
       "    </tr>\n",
       "    <tr>\n",
       "      <th>113</th>\n",
       "      <td>5.7</td>\n",
       "      <td>2.5</td>\n",
       "      <td>5.0</td>\n",
       "      <td>2.0</td>\n",
       "      <td>Iris-virginica</td>\n",
       "    </tr>\n",
       "  </tbody>\n",
       "</table>\n",
       "</div>"
      ],
      "text/plain": [
       "     SepalLengthCm  SepalWidthCm  PetalLengthCm  PetalWidthCm         Species\n",
       "11             4.8           3.4            1.6           0.2     Iris-setosa\n",
       "113            5.7           2.5            5.0           2.0  Iris-virginica"
      ]
     },
     "execution_count": 7,
     "metadata": {},
     "output_type": "execute_result"
    }
   ],
   "source": [
    "train,test=train_test_split(data,test_size=0.25)\n",
    "\n",
    "print(train.shape,test.shape)\n",
    "\n",
    "train.head(2)"
   ]
  },
  {
   "cell_type": "code",
   "execution_count": 8,
   "metadata": {
    "execution": {
     "iopub.execute_input": "2021-03-31T09:09:11.972449Z",
     "iopub.status.busy": "2021-03-31T09:09:11.971382Z",
     "iopub.status.idle": "2021-03-31T09:09:11.974982Z",
     "shell.execute_reply": "2021-03-31T09:09:11.974309Z"
    },
    "papermill": {
     "duration": 0.028721,
     "end_time": "2021-03-31T09:09:11.975154",
     "exception": false,
     "start_time": "2021-03-31T09:09:11.946433",
     "status": "completed"
    },
    "tags": []
   },
   "outputs": [],
   "source": [
    "train_X=train.drop('Species',axis=1)\n",
    "train_y=train.Species\n",
    "\n",
    "test_X=test.drop('Species',axis=1)\n",
    "test_y=test.Species"
   ]
  },
  {
   "cell_type": "markdown",
   "metadata": {
    "papermill": {
     "duration": 0.015534,
     "end_time": "2021-03-31T09:09:12.006098",
     "exception": false,
     "start_time": "2021-03-31T09:09:11.990564",
     "status": "completed"
    },
    "tags": []
   },
   "source": [
    "### Checking Class Imbalance"
   ]
  },
  {
   "cell_type": "code",
   "execution_count": 9,
   "metadata": {
    "execution": {
     "iopub.execute_input": "2021-03-31T09:09:12.049166Z",
     "iopub.status.busy": "2021-03-31T09:09:12.047550Z",
     "iopub.status.idle": "2021-03-31T09:09:12.055003Z",
     "shell.execute_reply": "2021-03-31T09:09:12.054430Z"
    },
    "papermill": {
     "duration": 0.033834,
     "end_time": "2021-03-31T09:09:12.055163",
     "exception": false,
     "start_time": "2021-03-31T09:09:12.021329",
     "status": "completed"
    },
    "tags": []
   },
   "outputs": [
    {
     "name": "stdout",
     "output_type": "stream",
     "text": [
      "Iris-setosa 50\n",
      "Iris-versicolor 50\n",
      "Iris-virginica 50\n"
     ]
    }
   ],
   "source": [
    "for i in range(3):\n",
    "    print(label[i],int(data[data.Species==label[i]].Species.value_counts()))"
   ]
  },
  {
   "cell_type": "markdown",
   "metadata": {
    "papermill": {
     "duration": 0.01528,
     "end_time": "2021-03-31T09:09:12.086428",
     "exception": false,
     "start_time": "2021-03-31T09:09:12.071148",
     "status": "completed"
    },
    "tags": []
   },
   "source": [
    "## Model Building"
   ]
  },
  {
   "cell_type": "code",
   "execution_count": 10,
   "metadata": {
    "execution": {
     "iopub.execute_input": "2021-03-31T09:09:12.123203Z",
     "iopub.status.busy": "2021-03-31T09:09:12.122523Z",
     "iopub.status.idle": "2021-03-31T09:09:12.362734Z",
     "shell.execute_reply": "2021-03-31T09:09:12.362054Z"
    },
    "papermill": {
     "duration": 0.260838,
     "end_time": "2021-03-31T09:09:12.362888",
     "exception": false,
     "start_time": "2021-03-31T09:09:12.102050",
     "status": "completed"
    },
    "tags": []
   },
   "outputs": [],
   "source": [
    "from sklearn.neighbors import KNeighborsClassifier as knn\n",
    "from sklearn import metrics"
   ]
  },
  {
   "cell_type": "code",
   "execution_count": 11,
   "metadata": {
    "execution": {
     "iopub.execute_input": "2021-03-31T09:09:12.403892Z",
     "iopub.status.busy": "2021-03-31T09:09:12.403235Z",
     "iopub.status.idle": "2021-03-31T09:09:12.407022Z",
     "shell.execute_reply": "2021-03-31T09:09:12.406435Z"
    },
    "papermill": {
     "duration": 0.028146,
     "end_time": "2021-03-31T09:09:12.407182",
     "exception": false,
     "start_time": "2021-03-31T09:09:12.379036",
     "status": "completed"
    },
    "tags": []
   },
   "outputs": [],
   "source": [
    "model=knn(n_neighbors=3,algorithm='auto')\n",
    "\n",
    "history=model.fit(train_X,train_y)"
   ]
  },
  {
   "cell_type": "code",
   "execution_count": 12,
   "metadata": {
    "execution": {
     "iopub.execute_input": "2021-03-31T09:09:12.446946Z",
     "iopub.status.busy": "2021-03-31T09:09:12.445879Z",
     "iopub.status.idle": "2021-03-31T09:09:12.455306Z",
     "shell.execute_reply": "2021-03-31T09:09:12.455857Z"
    },
    "papermill": {
     "duration": 0.033085,
     "end_time": "2021-03-31T09:09:12.456047",
     "exception": false,
     "start_time": "2021-03-31T09:09:12.422962",
     "status": "completed"
    },
    "tags": []
   },
   "outputs": [
    {
     "data": {
      "text/plain": [
       "('Accuracy Score: ', 0.9736842105263158)"
      ]
     },
     "execution_count": 12,
     "metadata": {},
     "output_type": "execute_result"
    }
   ],
   "source": [
    "pred=model.predict(test_X)\n",
    "'Accuracy Score: ',metrics.accuracy_score(pred,test_y)"
   ]
  },
  {
   "cell_type": "code",
   "execution_count": null,
   "metadata": {
    "papermill": {
     "duration": 0.015967,
     "end_time": "2021-03-31T09:09:12.488610",
     "exception": false,
     "start_time": "2021-03-31T09:09:12.472643",
     "status": "completed"
    },
    "tags": []
   },
   "outputs": [],
   "source": []
  }
 ],
 "metadata": {
  "kernelspec": {
   "display_name": "Python 3",
   "language": "python",
   "name": "python3"
  },
  "language_info": {
   "codemirror_mode": {
    "name": "ipython",
    "version": 3
   },
   "file_extension": ".py",
   "mimetype": "text/x-python",
   "name": "python",
   "nbconvert_exporter": "python",
   "pygments_lexer": "ipython3",
   "version": "3.7.9"
  },
  "papermill": {
   "default_parameters": {},
   "duration": 11.115728,
   "end_time": "2021-03-31T09:09:13.216656",
   "environment_variables": {},
   "exception": null,
   "input_path": "__notebook__.ipynb",
   "output_path": "__notebook__.ipynb",
   "parameters": {},
   "start_time": "2021-03-31T09:09:02.100928",
   "version": "2.2.2"
  }
 },
 "nbformat": 4,
 "nbformat_minor": 4
}
